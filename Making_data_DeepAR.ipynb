{
 "cells": [
  {
   "cell_type": "code",
   "execution_count": 1,
   "id": "4bc1668b-30f8-4778-ba1d-166e317bb22e",
   "metadata": {},
   "outputs": [
    {
     "name": "stderr",
     "output_type": "stream",
     "text": [
      "/Users/amritbhaskar/miniconda3/envs/CIS515/lib/python3.8/site-packages/gluonts/json.py:101: UserWarning: Using `json`-module for json-handling. Consider installing one of `orjson`, `ujson` to speed up serialization and deserialization.\n",
      "  warnings.warn(\n"
     ]
    }
   ],
   "source": [
    "import numpy as np\n",
    "import pandas as pd\n",
    "\n",
    "from itertools import islice\n",
    "from functools import partial\n",
    "import mxnet as mx\n",
    "from pandas.plotting import register_matplotlib_converters\n",
    "\n",
    "register_matplotlib_converters()\n",
    "\n",
    "from gluonts.dataset.loader import TrainDataLoader\n",
    "from gluonts.mx import DeepAREstimator\n",
    "from gluonts.mx.util import get_hybrid_forward_input_names\n",
    "from gluonts.mx.trainer import Trainer\n",
    "from gluonts.mx.batchify import batchify\n",
    "from gluonts.dataset.repository.datasets import get_dataset\n",
    "\n",
    "pd.set_option('display.max_columns', 150)\n",
    "pd.set_option('display.max_rows', 150)\n",
    "\n",
    "import warnings\n",
    "warnings.filterwarnings(\"ignore\")"
   ]
  },
  {
   "cell_type": "code",
   "execution_count": 2,
   "id": "5d4084f3-db3a-4f0e-869a-ba2f13ad987f",
   "metadata": {},
   "outputs": [
    {
     "data": {
      "text/html": [
       "<div>\n",
       "<style scoped>\n",
       "    .dataframe tbody tr th:only-of-type {\n",
       "        vertical-align: middle;\n",
       "    }\n",
       "\n",
       "    .dataframe tbody tr th {\n",
       "        vertical-align: top;\n",
       "    }\n",
       "\n",
       "    .dataframe thead th {\n",
       "        text-align: right;\n",
       "    }\n",
       "</style>\n",
       "<table border=\"1\" class=\"dataframe\">\n",
       "  <thead>\n",
       "    <tr style=\"text-align: right;\">\n",
       "      <th></th>\n",
       "      <th>Unnamed: 0</th>\n",
       "      <th>Store</th>\n",
       "      <th>Date</th>\n",
       "      <th>IsHoliday</th>\n",
       "      <th>Dept</th>\n",
       "      <th>Weekly_Sales</th>\n",
       "      <th>Temperature</th>\n",
       "      <th>Fuel_Price</th>\n",
       "      <th>MarkDown1</th>\n",
       "      <th>MarkDown2</th>\n",
       "      <th>MarkDown3</th>\n",
       "      <th>MarkDown4</th>\n",
       "      <th>MarkDown5</th>\n",
       "      <th>CPI</th>\n",
       "      <th>Unemployment</th>\n",
       "      <th>Type</th>\n",
       "      <th>Size</th>\n",
       "    </tr>\n",
       "  </thead>\n",
       "  <tbody>\n",
       "    <tr>\n",
       "      <th>0</th>\n",
       "      <td>0</td>\n",
       "      <td>1</td>\n",
       "      <td>2010-02-05</td>\n",
       "      <td>0</td>\n",
       "      <td>1.0</td>\n",
       "      <td>24924.50</td>\n",
       "      <td>42.31</td>\n",
       "      <td>2.572</td>\n",
       "      <td>0.0</td>\n",
       "      <td>0.0</td>\n",
       "      <td>0.0</td>\n",
       "      <td>0.0</td>\n",
       "      <td>0.0</td>\n",
       "      <td>211.096358</td>\n",
       "      <td>8.106</td>\n",
       "      <td>3</td>\n",
       "      <td>151315</td>\n",
       "    </tr>\n",
       "    <tr>\n",
       "      <th>1</th>\n",
       "      <td>1</td>\n",
       "      <td>1</td>\n",
       "      <td>2010-02-05</td>\n",
       "      <td>0</td>\n",
       "      <td>26.0</td>\n",
       "      <td>11737.12</td>\n",
       "      <td>42.31</td>\n",
       "      <td>2.572</td>\n",
       "      <td>0.0</td>\n",
       "      <td>0.0</td>\n",
       "      <td>0.0</td>\n",
       "      <td>0.0</td>\n",
       "      <td>0.0</td>\n",
       "      <td>211.096358</td>\n",
       "      <td>8.106</td>\n",
       "      <td>3</td>\n",
       "      <td>151315</td>\n",
       "    </tr>\n",
       "    <tr>\n",
       "      <th>2</th>\n",
       "      <td>2</td>\n",
       "      <td>1</td>\n",
       "      <td>2010-02-05</td>\n",
       "      <td>0</td>\n",
       "      <td>17.0</td>\n",
       "      <td>13223.76</td>\n",
       "      <td>42.31</td>\n",
       "      <td>2.572</td>\n",
       "      <td>0.0</td>\n",
       "      <td>0.0</td>\n",
       "      <td>0.0</td>\n",
       "      <td>0.0</td>\n",
       "      <td>0.0</td>\n",
       "      <td>211.096358</td>\n",
       "      <td>8.106</td>\n",
       "      <td>3</td>\n",
       "      <td>151315</td>\n",
       "    </tr>\n",
       "    <tr>\n",
       "      <th>3</th>\n",
       "      <td>3</td>\n",
       "      <td>1</td>\n",
       "      <td>2010-02-05</td>\n",
       "      <td>0</td>\n",
       "      <td>45.0</td>\n",
       "      <td>37.44</td>\n",
       "      <td>42.31</td>\n",
       "      <td>2.572</td>\n",
       "      <td>0.0</td>\n",
       "      <td>0.0</td>\n",
       "      <td>0.0</td>\n",
       "      <td>0.0</td>\n",
       "      <td>0.0</td>\n",
       "      <td>211.096358</td>\n",
       "      <td>8.106</td>\n",
       "      <td>3</td>\n",
       "      <td>151315</td>\n",
       "    </tr>\n",
       "    <tr>\n",
       "      <th>4</th>\n",
       "      <td>4</td>\n",
       "      <td>1</td>\n",
       "      <td>2010-02-05</td>\n",
       "      <td>0</td>\n",
       "      <td>28.0</td>\n",
       "      <td>1085.29</td>\n",
       "      <td>42.31</td>\n",
       "      <td>2.572</td>\n",
       "      <td>0.0</td>\n",
       "      <td>0.0</td>\n",
       "      <td>0.0</td>\n",
       "      <td>0.0</td>\n",
       "      <td>0.0</td>\n",
       "      <td>211.096358</td>\n",
       "      <td>8.106</td>\n",
       "      <td>3</td>\n",
       "      <td>151315</td>\n",
       "    </tr>\n",
       "  </tbody>\n",
       "</table>\n",
       "</div>"
      ],
      "text/plain": [
       "   Unnamed: 0  Store        Date  IsHoliday  Dept  Weekly_Sales  Temperature  \\\n",
       "0           0      1  2010-02-05          0   1.0      24924.50        42.31   \n",
       "1           1      1  2010-02-05          0  26.0      11737.12        42.31   \n",
       "2           2      1  2010-02-05          0  17.0      13223.76        42.31   \n",
       "3           3      1  2010-02-05          0  45.0         37.44        42.31   \n",
       "4           4      1  2010-02-05          0  28.0       1085.29        42.31   \n",
       "\n",
       "   Fuel_Price  MarkDown1  MarkDown2  MarkDown3  MarkDown4  MarkDown5  \\\n",
       "0       2.572        0.0        0.0        0.0        0.0        0.0   \n",
       "1       2.572        0.0        0.0        0.0        0.0        0.0   \n",
       "2       2.572        0.0        0.0        0.0        0.0        0.0   \n",
       "3       2.572        0.0        0.0        0.0        0.0        0.0   \n",
       "4       2.572        0.0        0.0        0.0        0.0        0.0   \n",
       "\n",
       "          CPI  Unemployment  Type    Size  \n",
       "0  211.096358         8.106     3  151315  \n",
       "1  211.096358         8.106     3  151315  \n",
       "2  211.096358         8.106     3  151315  \n",
       "3  211.096358         8.106     3  151315  \n",
       "4  211.096358         8.106     3  151315  "
      ]
     },
     "execution_count": 2,
     "metadata": {},
     "output_type": "execute_result"
    }
   ],
   "source": [
    "data = pd.read_csv('walmart_cleaned.csv')\n",
    "data.head()"
   ]
  },
  {
   "cell_type": "code",
   "execution_count": 3,
   "id": "0e3507d0-6095-4ef3-a618-b0fddb608142",
   "metadata": {},
   "outputs": [],
   "source": [
    "# data['Store'] = data['Store'].astype(int)\n",
    "# data['Dept'] = data['Dept'].astype(int)\n",
    "\n",
    "all_store_dept = data[['Store','Dept']].drop_duplicates()\n",
    "\n",
    "all_store_dept['combined'] = all_store_dept['Store'].astype(str)+ \"_\" + all_store_dept['Dept'].astype(str)\n",
    "list_required_store_dept = all_store_dept[\"combined\"].to_list()"
   ]
  },
  {
   "cell_type": "code",
   "execution_count": 4,
   "id": "cdb79210-cb23-4d59-83b3-4238c4d54be0",
   "metadata": {},
   "outputs": [
    {
     "data": {
      "text/plain": [
       "3331"
      ]
     },
     "execution_count": 4,
     "metadata": {},
     "output_type": "execute_result"
    }
   ],
   "source": [
    "len(list_required_store_dept)"
   ]
  },
  {
   "cell_type": "code",
   "execution_count": 5,
   "id": "e6aeac2c-5d32-422c-ba1a-03f04f537dd8",
   "metadata": {},
   "outputs": [
    {
     "name": "stdout",
     "output_type": "stream",
     "text": [
      "100\n",
      "200\n",
      "300\n",
      "400\n",
      "500\n",
      "600\n",
      "700\n",
      "800\n",
      "900\n",
      "1000\n",
      "1100\n",
      "1200\n",
      "1300\n",
      "1400\n",
      "1500\n",
      "1600\n",
      "1700\n",
      "1800\n",
      "1900\n",
      "2000\n",
      "2100\n",
      "2200\n",
      "2300\n",
      "2400\n",
      "2500\n",
      "2600\n",
      "2700\n",
      "2800\n",
      "2900\n",
      "3000\n",
      "3100\n",
      "3200\n",
      "3300\n",
      "CPU times: user 15min 34s, sys: 2.69 s, total: 15min 37s\n",
      "Wall time: 15min 39s\n"
     ]
    }
   ],
   "source": [
    "%%time\n",
    "total_data = []\n",
    "\n",
    "count=0\n",
    "\n",
    "for i in list_required_store_dept:\n",
    "    count+=1\n",
    "    if(count%100)==0: print(count)\n",
    "    temp_s, temp_d = i.split(\"_\")\n",
    "    # print(temp_s, temp_d)\n",
    "    df_temp = data[(data['Store'].astype(str)==temp_s) & (data['Dept'].astype(str)==temp_d)].copy()\n",
    "    # print(df_temp[[\"Date\",\"Weekly_Sales\"]].head())\n",
    "    df_temp.sort_values(['Date'], inplace=True)\n",
    "    start_date = df_temp[\"Date\"].iloc[0]\n",
    "    # print(df_temp[[\"Date\",\"Weekly_Sales\"]].head())\n",
    "    df_temp['Date'] = pd.to_datetime(df_temp['Date'])\n",
    "    df_temp = df_temp.set_index('Date')\n",
    "    feat_dynamic_values = df_temp[[\"IsHoliday\",\"Temperature\",\"Fuel_Price\"]].values.T\n",
    "    target_values =  df_temp[\"Weekly_Sales\"].values\n",
    "    \n",
    "    total_data.append({\"start\": start_date, \"target\": target_values,\n",
    "             \"feat_dynamic_real\": feat_dynamic_values})"
   ]
  },
  {
   "cell_type": "code",
   "execution_count": 6,
   "id": "7a44e702-a0ec-4d63-af78-f280cacd1200",
   "metadata": {},
   "outputs": [
    {
     "data": {
      "text/plain": [
       "3331"
      ]
     },
     "execution_count": 6,
     "metadata": {},
     "output_type": "execute_result"
    }
   ],
   "source": [
    "len(total_data)"
   ]
  },
  {
   "cell_type": "code",
   "execution_count": 15,
   "id": "78c8e9e0-f99c-4e65-8872-44d07932a3ad",
   "metadata": {},
   "outputs": [],
   "source": [
    "class NumpyEncoder(json.JSONEncoder):\n",
    "    def default(self, obj):\n",
    "        if isinstance(obj, np.ndarray):\n",
    "            return obj.tolist()\n",
    "        return json.JSONEncoder.default(self, obj)\n",
    "\n",
    "json_dump = json.dumps({'data' : total_data}, \n",
    "                       cls=NumpyEncoder)"
   ]
  },
  {
   "cell_type": "code",
   "execution_count": 20,
   "id": "b9d08ef9-5324-4424-9ffd-ade55e3f74dc",
   "metadata": {},
   "outputs": [],
   "source": [
    "import json\n",
    "with open('deepar_data.json', 'w') as fout:\n",
    "    json.dump(json_dump, fout)"
   ]
  },
  {
   "cell_type": "code",
   "execution_count": null,
   "id": "ba025d17-8af7-4631-bf40-d532ab9fa63a",
   "metadata": {},
   "outputs": [],
   "source": []
  },
  {
   "cell_type": "code",
   "execution_count": 16,
   "id": "484e3c33-f5bd-4a76-9e1b-9475aca766e6",
   "metadata": {},
   "outputs": [],
   "source": [
    "json_load = json.loads(json_dump)\n",
    "a_restored = json_load[\"data\"]"
   ]
  },
  {
   "cell_type": "code",
   "execution_count": 18,
   "id": "1a298b60-4855-4550-a6ee-f4430a2b2a8c",
   "metadata": {},
   "outputs": [
    {
     "data": {
      "text/plain": [
       "3331"
      ]
     },
     "execution_count": 18,
     "metadata": {},
     "output_type": "execute_result"
    }
   ],
   "source": [
    "len(a_restored)"
   ]
  },
  {
   "cell_type": "code",
   "execution_count": null,
   "id": "b325b0a1-741b-491b-88ca-5d4c1404ce48",
   "metadata": {},
   "outputs": [],
   "source": []
  }
 ],
 "metadata": {
  "kernelspec": {
   "display_name": "Python 3 (ipykernel)",
   "language": "python",
   "name": "python3"
  },
  "language_info": {
   "codemirror_mode": {
    "name": "ipython",
    "version": 3
   },
   "file_extension": ".py",
   "mimetype": "text/x-python",
   "name": "python",
   "nbconvert_exporter": "python",
   "pygments_lexer": "ipython3",
   "version": "3.8.12"
  }
 },
 "nbformat": 4,
 "nbformat_minor": 5
}
