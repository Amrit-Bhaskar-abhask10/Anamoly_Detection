{
 "cells": [
  {
   "cell_type": "markdown",
   "id": "4aa98cfd-b9a0-4baa-a52c-6855490af686",
   "metadata": {},
   "source": [
    "## Import libraries"
   ]
  },
  {
   "cell_type": "code",
   "execution_count": 1,
   "id": "ccc2ffe7-15fd-449c-879e-261eb720cda3",
   "metadata": {},
   "outputs": [],
   "source": [
    "import numpy as np\n",
    "import pandas as pd\n",
    "\n",
    "from sklearn.pipeline import make_pipeline\n",
    "from sklearn.preprocessing import StandardScaler\n",
    "\n",
    "import xgboost as xgb\n",
    "from sklearn.model_selection import train_test_split\n",
    "from xgboost import XGBClassifier\n",
    "from sklearn.svm import SVC\n",
    "from sklearn.model_selection import GridSearchCV\n",
    "import warnings\n",
    "warnings.filterwarnings(\"ignore\")\n",
    "from sklearn.preprocessing import StandardScaler\n",
    "from sklearn.decomposition import PCA\n",
    "import matplotlib.pyplot as plt\n",
    "\n",
    "from sklearn.metrics import f1_score, accuracy_score,confusion_matrix, precision_score, recall_score, roc_auc_score"
   ]
  },
  {
   "cell_type": "markdown",
   "id": "261ba041-cebb-4924-81d1-d7d84329371f",
   "metadata": {},
   "source": [
    "## Import Data"
   ]
  },
  {
   "cell_type": "code",
   "execution_count": 2,
   "id": "9863797b-3faa-441b-bb93-b475d0006aaa",
   "metadata": {},
   "outputs": [],
   "source": [
    "test=pd.read_csv(\"data/test.csv\")\n",
    "train=pd.read_csv(\"data/train.csv\")"
   ]
  },
  {
   "cell_type": "code",
   "execution_count": 3,
   "id": "9d830056-33a8-4b40-8d70-1b9509d53352",
   "metadata": {},
   "outputs": [
    {
     "data": {
      "text/html": [
       "<div>\n",
       "<style scoped>\n",
       "    .dataframe tbody tr th:only-of-type {\n",
       "        vertical-align: middle;\n",
       "    }\n",
       "\n",
       "    .dataframe tbody tr th {\n",
       "        vertical-align: top;\n",
       "    }\n",
       "\n",
       "    .dataframe thead th {\n",
       "        text-align: right;\n",
       "    }\n",
       "</style>\n",
       "<table border=\"1\" class=\"dataframe\">\n",
       "  <thead>\n",
       "    <tr style=\"text-align: right;\">\n",
       "      <th></th>\n",
       "      <th>timestamp</th>\n",
       "      <th>value</th>\n",
       "      <th>predicted</th>\n",
       "      <th>is_anomaly</th>\n",
       "    </tr>\n",
       "  </thead>\n",
       "  <tbody>\n",
       "    <tr>\n",
       "      <th>0</th>\n",
       "      <td>1425008573</td>\n",
       "      <td>42</td>\n",
       "      <td>44.072500</td>\n",
       "      <td>False</td>\n",
       "    </tr>\n",
       "    <tr>\n",
       "      <th>1</th>\n",
       "      <td>1425008873</td>\n",
       "      <td>41</td>\n",
       "      <td>50.709390</td>\n",
       "      <td>False</td>\n",
       "    </tr>\n",
       "    <tr>\n",
       "      <th>2</th>\n",
       "      <td>1425009173</td>\n",
       "      <td>41</td>\n",
       "      <td>81.405120</td>\n",
       "      <td>False</td>\n",
       "    </tr>\n",
       "    <tr>\n",
       "      <th>3</th>\n",
       "      <td>1425009473</td>\n",
       "      <td>61</td>\n",
       "      <td>39.950367</td>\n",
       "      <td>False</td>\n",
       "    </tr>\n",
       "    <tr>\n",
       "      <th>4</th>\n",
       "      <td>1425009773</td>\n",
       "      <td>44</td>\n",
       "      <td>35.350160</td>\n",
       "      <td>False</td>\n",
       "    </tr>\n",
       "  </tbody>\n",
       "</table>\n",
       "</div>"
      ],
      "text/plain": [
       "    timestamp  value  predicted  is_anomaly\n",
       "0  1425008573     42  44.072500       False\n",
       "1  1425008873     41  50.709390       False\n",
       "2  1425009173     41  81.405120       False\n",
       "3  1425009473     61  39.950367       False\n",
       "4  1425009773     44  35.350160       False"
      ]
     },
     "execution_count": 3,
     "metadata": {},
     "output_type": "execute_result"
    }
   ],
   "source": [
    "train[['timestamp','value','predicted','is_anomaly']].head()"
   ]
  },
  {
   "cell_type": "code",
   "execution_count": 4,
   "id": "8d7be1f6-93cc-4d09-abe6-ef5021d1ceba",
   "metadata": {},
   "outputs": [
    {
     "data": {
      "text/plain": [
       "(15830, 4)"
      ]
     },
     "execution_count": 4,
     "metadata": {},
     "output_type": "execute_result"
    }
   ],
   "source": [
    "train.shape"
   ]
  },
  {
   "cell_type": "code",
   "execution_count": 5,
   "id": "8be2333e-b0b9-49a9-a15d-a1e96c4d21d7",
   "metadata": {},
   "outputs": [
    {
     "data": {
      "text/html": [
       "<div>\n",
       "<style scoped>\n",
       "    .dataframe tbody tr th:only-of-type {\n",
       "        vertical-align: middle;\n",
       "    }\n",
       "\n",
       "    .dataframe tbody tr th {\n",
       "        vertical-align: top;\n",
       "    }\n",
       "\n",
       "    .dataframe thead th {\n",
       "        text-align: right;\n",
       "    }\n",
       "</style>\n",
       "<table border=\"1\" class=\"dataframe\">\n",
       "  <thead>\n",
       "    <tr style=\"text-align: right;\">\n",
       "      <th></th>\n",
       "      <th>label</th>\n",
       "      <th>count</th>\n",
       "      <th>percent</th>\n",
       "    </tr>\n",
       "  </thead>\n",
       "  <tbody>\n",
       "    <tr>\n",
       "      <th>0</th>\n",
       "      <td>False</td>\n",
       "      <td>15054</td>\n",
       "      <td>95.097915</td>\n",
       "    </tr>\n",
       "    <tr>\n",
       "      <th>1</th>\n",
       "      <td>True</td>\n",
       "      <td>776</td>\n",
       "      <td>4.902085</td>\n",
       "    </tr>\n",
       "  </tbody>\n",
       "</table>\n",
       "</div>"
      ],
      "text/plain": [
       "   label  count    percent\n",
       "0  False  15054  95.097915\n",
       "1   True    776   4.902085"
      ]
     },
     "execution_count": 5,
     "metadata": {},
     "output_type": "execute_result"
    }
   ],
   "source": [
    "temp_disp = train['is_anomaly'].value_counts().reset_index()\n",
    "temp_disp.columns = ['label','count']\n",
    "temp_disp['percent'] = train['is_anomaly'].value_counts(1)*100\n",
    "temp_disp"
   ]
  },
  {
   "cell_type": "code",
   "execution_count": null,
   "id": "98619fe5-cd93-40a2-8c11-80f893b1456b",
   "metadata": {},
   "outputs": [],
   "source": []
  },
  {
   "cell_type": "code",
   "execution_count": 6,
   "id": "eb6e0b62-6191-4599-b524-6c3d26a5ac00",
   "metadata": {},
   "outputs": [],
   "source": [
    "dict_label = {False:0, True:1}\n",
    "\n",
    "def func(x):\n",
    "    return dict_label[x]\n",
    "\n",
    "train[\"is_anomaly_label\"] = train[\"is_anomaly\"].apply(func)\n",
    "\n",
    "train[\"abs_diff\"] = train[\"value\"] - train[\"predicted\"]\n",
    "train['abs_diff'] = train['abs_diff'].abs()"
   ]
  },
  {
   "cell_type": "code",
   "execution_count": 7,
   "id": "5597bced-c08f-46d0-9d08-258789f520ca",
   "metadata": {},
   "outputs": [
    {
     "data": {
      "text/plain": [
       "<AxesSubplot:>"
      ]
     },
     "execution_count": 7,
     "metadata": {},
     "output_type": "execute_result"
    },
    {
     "data": {
      "image/png": "[encoded data removed]",
      "text/plain": [
       "<Figure size 432x288 with 1 Axes>"
      ]
     },
     "metadata": {
      "needs_background": "light"
     },
     "output_type": "display_data"
    }
   ],
   "source": [
    "train.boxplot(column=['abs_diff']) "
   ]
  },
  {
   "cell_type": "code",
   "execution_count": 8,
   "id": "3fed8983-b1b6-4a82-8952-77e17d6abc34",
   "metadata": {},
   "outputs": [],
   "source": [
    "# Q1 = train.quantile(0.25)\n",
    "# Q3 = train.quantile(0.75)\n",
    "# IQR = Q3 - Q1\n",
    "\n",
    "# df = df[~((df < (Q1 - 1.5 * IQR)) |(df > (Q3 + 1.5 * IQR))).any(axis=1)]"
   ]
  },
  {
   "cell_type": "code",
   "execution_count": 9,
   "id": "95a952f3-819d-4281-bb5a-e3973af7300f",
   "metadata": {},
   "outputs": [],
   "source": [
    "# ## remove outlier\n",
    "\n",
    "# cols = ['abs_diff'] # one or more\n",
    "\n",
    "# Q1 = train[cols].quantile(0.25)\n",
    "# Q3 = train[cols].quantile(0.75)\n",
    "# IQR = Q3 - Q1\n",
    "\n",
    "# train_outlier_rem = train[~((train[cols] < (Q1 - 1.5 * IQR)) |(train[cols] > (Q3 + 1.5 * IQR))).any(axis=1)]"
   ]
  },
  {
   "cell_type": "code",
   "execution_count": 10,
   "id": "2b6530b0-97d0-4bd9-8c59-43c497ded6ba",
   "metadata": {},
   "outputs": [],
   "source": [
    "# print(f'''%age of data removed after removing outliers :{round((train.shape[0]-train_outlier_rem.shape[0])/train.shape[0]*100,2)}, out of {train.shape[0]} rows''')\n",
    "# print(f\"Total data left : {train_outlier_rem.shape[0]} rows\")"
   ]
  },
  {
   "cell_type": "code",
   "execution_count": 11,
   "id": "0924bcc6-7914-4700-a0db-ba03c62fe0f7",
   "metadata": {},
   "outputs": [],
   "source": [
    "# train_outlier_rem.boxplot(column=['abs_diff']) "
   ]
  },
  {
   "cell_type": "code",
   "execution_count": 12,
   "id": "3e34ab4e-fa7a-4610-9434-dcc0f540c6f6",
   "metadata": {},
   "outputs": [],
   "source": [
    "# train_outlier_rem.describe()"
   ]
  },
  {
   "cell_type": "code",
   "execution_count": 13,
   "id": "7e96bbec-ac83-4789-84a2-92c4dfd17c33",
   "metadata": {},
   "outputs": [
    {
     "data": {
      "text/plain": [
       "<AxesSubplot:>"
      ]
     },
     "execution_count": 13,
     "metadata": {},
     "output_type": "execute_result"
    },
    {
     "data": {
      "image/png": "[encoded data removed]",
      "text/plain": [
       "<Figure size 432x288 with 1 Axes>"
      ]
     },
     "metadata": {
      "needs_background": "light"
     },
     "output_type": "display_data"
    }
   ],
   "source": [
    "train[\"abs_diff\"].hist()"
   ]
  },
  {
   "cell_type": "code",
   "execution_count": 14,
   "id": "2c60de00-7073-46bb-819e-9fca7484e951",
   "metadata": {},
   "outputs": [],
   "source": [
    "X_train = train[[\"value\",\"predicted\"]].values #,\n",
    "Y_train = train[\"is_anomaly_label\"].values\n",
    "\n",
    "X_train= StandardScaler().fit_transform(X_train)\n",
    "\n",
    "x_train,x_test,y_train, y_test=train_test_split(X_train,Y_train,test_size=0.2, random_state=1)"
   ]
  },
  {
   "cell_type": "code",
   "execution_count": 15,
   "id": "0f805148-f9c0-4e2b-857e-ce74c9a4ea58",
   "metadata": {},
   "outputs": [
    {
     "data": {
      "text/plain": [
       "array([[ 0.54833685,  1.32187979],\n",
       "       [-0.05150634,  0.07628727]])"
      ]
     },
     "execution_count": 15,
     "metadata": {},
     "output_type": "execute_result"
    }
   ],
   "source": [
    "x_train[:2]"
   ]
  },
  {
   "cell_type": "code",
   "execution_count": 16,
   "id": "197b6b5f-c295-40d1-95cb-ded1bc4bfdc3",
   "metadata": {},
   "outputs": [
    {
     "data": {
      "text/plain": [
       "((12664, 2), (3166, 2), (12664,), (3166,))"
      ]
     },
     "execution_count": 16,
     "metadata": {},
     "output_type": "execute_result"
    }
   ],
   "source": [
    "x_train.shape ,x_test.shape ,y_train.shape , y_test.shape"
   ]
  },
  {
   "cell_type": "code",
   "execution_count": 17,
   "id": "6493498a-b0cb-4668-9cb3-c789a57c5179",
   "metadata": {},
   "outputs": [
    {
     "data": {
      "text/plain": [
       "(array([    0,     1,     2, ..., 12660, 12661, 12663]),)"
      ]
     },
     "execution_count": 17,
     "metadata": {},
     "output_type": "execute_result"
    }
   ],
   "source": [
    "np.where(y_train == 0)"
   ]
  },
  {
   "cell_type": "code",
   "execution_count": 18,
   "id": "b9910747-b798-4456-91cb-6b2f51e58edc",
   "metadata": {},
   "outputs": [],
   "source": [
    "legend_label = {0:False, 1:True}"
   ]
  },
  {
   "cell_type": "code",
   "execution_count": 19,
   "id": "54c741f8-3a57-46aa-ada4-e72a16f98d04",
   "metadata": {},
   "outputs": [
    {
     "data": {
      "image/png": "[encoded data removed]",
      "text/plain": [
       "<Figure size 432x288 with 1 Axes>"
      ]
     },
     "metadata": {
      "needs_background": "light"
     },
     "output_type": "display_data"
    }
   ],
   "source": [
    "for class_value in range(2):\n",
    "    # get row indexes for samples with this class\n",
    "    row_ix = np.where(y_train == class_value)\n",
    "    # create scatter of these samples\n",
    "    plt.scatter(x_train[row_ix, 0], x_train[row_ix, 1], label=legend_label[class_value])\n",
    "# show the plot\n",
    "plt.legend(loc=\"center left\", bbox_to_anchor=(1, 0.5))\n",
    "plt.show()"
   ]
  },
  {
   "cell_type": "markdown",
   "id": "f5a309fb-b73d-4687-8e77-77bcfd2dec0c",
   "metadata": {},
   "source": [
    "## XgBoost Model"
   ]
  },
  {
   "cell_type": "code",
   "execution_count": 20,
   "id": "7d8badd4-708f-4877-bc80-7542e990af51",
   "metadata": {},
   "outputs": [],
   "source": [
    "# %%time\n",
    "\n",
    "# clf = XGBClassifier(objective= 'binary:logistic')\n",
    "# # set up our search grid\n",
    "# param_grid = {\"max_depth\":    [3, 4, 5],\n",
    "#               \"n_estimators\": [200, 500, 800, 1100, 1400],\n",
    "#               \"learning_rate\": [0.01, 0.015, 0.001]}\n",
    "\n",
    "# # try out every combination of the above values\n",
    "# search = GridSearchCV(clf, param_grid, cv=5).fit(x_train, y_train)\n",
    "# print(\"The best hyperparameters are \",search.best_params_)"
   ]
  },
  {
   "cell_type": "code",
   "execution_count": 21,
   "id": "5ee896b3-7cf6-440c-9d78-27c28d27278c",
   "metadata": {},
   "outputs": [
    {
     "name": "stdout",
     "output_type": "stream",
     "text": [
      "[22:12:12] WARNING: /Users/runner/work/xgboost/xgboost/python-package/build/temp.macosx-10.9-x86_64-cpython-37/xgboost/src/learner.cc:627: \n",
      "Parameters: { \"probability\" } might not be used.\n",
      "\n",
      "  This could be a false alarm, with some parameters getting used by language bindings but\n",
      "  then being mistakenly passed down to XGBoost core, or some parameter actually being used\n",
      "  but getting flagged wrongly here. Please open an issue if you find any such cases.\n",
      "\n",
      "\n"
     ]
    }
   ],
   "source": [
    "clf_xgb = XGBClassifier(learning_rate = 0.015,\n",
    "                           n_estimators  = 500,\n",
    "                           max_depth     = 5,\n",
    "                        objective= 'binary:logistic', probability=True,eta = 0.7)\n",
    "clf_xgb.fit(x_train, y_train)\n",
    "pred=clf_xgb.predict(x_test)"
   ]
  },
  {
   "cell_type": "code",
   "execution_count": 22,
   "id": "15c8ba68-23ee-4ed6-a1e9-faa7a1b7aaa8",
   "metadata": {},
   "outputs": [
    {
     "data": {
      "text/plain": [
       "(0.9736334100825981,\n",
       " 0.9753632343651295,\n",
       " (0.973300811484651,),\n",
       " 0.9753632343651295)"
      ]
     },
     "execution_count": 22,
     "metadata": {},
     "output_type": "execute_result"
    }
   ],
   "source": [
    "xg_f1 = f1_score(y_test, pred, average='weighted')\n",
    "xg_acc = accuracy_score(y_test, pred)\n",
    "precision = precision_score(y_test, pred, average='weighted'), \n",
    "recall = recall_score(y_test, pred, average='weighted')\n",
    "\n",
    "\n",
    "xg_f1, xg_acc, precision, recall"
   ]
  },
  {
   "cell_type": "code",
   "execution_count": 23,
   "id": "0d9ca64c-c654-4d40-820c-21ff0aee125f",
   "metadata": {},
   "outputs": [
    {
     "data": {
      "text/plain": [
       "array([[3004,   21],\n",
       "       [  57,   84]])"
      ]
     },
     "execution_count": 23,
     "metadata": {},
     "output_type": "execute_result"
    }
   ],
   "source": [
    "confusion_matrix(y_test, pred)"
   ]
  },
  {
   "cell_type": "code",
   "execution_count": 24,
   "id": "bc287f8d-a259-4015-b59a-55ba6782f052",
   "metadata": {},
   "outputs": [
    {
     "data": {
      "text/plain": [
       "0.9676267510696911"
      ]
     },
     "execution_count": 24,
     "metadata": {},
     "output_type": "execute_result"
    }
   ],
   "source": [
    "xg_pred_prob = clf_xgb.predict_proba(x_test)[:, 1]\n",
    "\n",
    "roc_auc_score(y_test, xg_pred_prob)"
   ]
  },
  {
   "cell_type": "markdown",
   "id": "35001643-24b2-4514-a876-b17c872fe313",
   "metadata": {},
   "source": [
    "## Test data"
   ]
  },
  {
   "cell_type": "code",
   "execution_count": 25,
   "id": "26c54822-28bd-4a2a-b163-f0e9fe1ca421",
   "metadata": {},
   "outputs": [
    {
     "data": {
      "image/png": "[encoded data removed]",
      "text/plain": [
       "<Figure size 432x288 with 1 Axes>"
      ]
     },
     "metadata": {
      "needs_background": "light"
     },
     "output_type": "display_data"
    }
   ],
   "source": [
    "for class_value in range(2):\n",
    "    # get row indexes for samples with this class\n",
    "    row_ix = np.where(y_test == class_value)\n",
    "    # create scatter of these samples\n",
    "    plt.scatter(x_test[row_ix, 0], x_test[row_ix, 1])\n",
    "# show the plot\n",
    "plt.show()"
   ]
  },
  {
   "cell_type": "markdown",
   "id": "bc55e17d-e846-40cf-b6e6-73411dc82964",
   "metadata": {},
   "source": [
    "## Predicted Data"
   ]
  },
  {
   "cell_type": "code",
   "execution_count": 26,
   "id": "00dd4b49-3ac1-4b9b-82b5-9a16336a808c",
   "metadata": {},
   "outputs": [
    {
     "data": {
      "image/png": "[encoded data removed]",
      "text/plain": [
       "<Figure size 432x288 with 1 Axes>"
      ]
     },
     "metadata": {
      "needs_background": "light"
     },
     "output_type": "display_data"
    }
   ],
   "source": [
    "for class_value in range(2):\n",
    "    # get row indexes for samples with this class\n",
    "    row_ix = np.where(pred == class_value)\n",
    "    # create scatter of these samples\n",
    "    plt.scatter(x_test[row_ix, 0], x_test[row_ix, 1])\n",
    "# show the plot\n",
    "plt.show()"
   ]
  },
  {
   "cell_type": "markdown",
   "id": "ddad1858-0484-455f-a2ce-c4a3b4e80164",
   "metadata": {},
   "source": [
    "## Train Decision boundary"
   ]
  },
  {
   "cell_type": "code",
   "execution_count": 27,
   "id": "11c976b1-6012-4be2-b9c2-619906c992fb",
   "metadata": {},
   "outputs": [
    {
     "data": {
      "image/png": "[encoded data removed]",
      "text/plain": [
       "<Figure size 432x288 with 1 Axes>"
      ]
     },
     "metadata": {
      "needs_background": "light"
     },
     "output_type": "display_data"
    }
   ],
   "source": [
    "# define bounds of the domain\n",
    "min1, max1 = x_train[:, 0].min()-1, x_train[:, 0].max()+1\n",
    "min2, max2 = x_train[:, 1].min()-1, x_train[:, 1].max()+1\n",
    "\n",
    "# define the x and y scale\n",
    "x1grid = np.arange(min1, max1, 0.1)\n",
    "x2grid = np.arange(min2, max2, 0.1)\n",
    "\n",
    "# create all of the lines and rows of the grid\n",
    "xx, yy = np.meshgrid(x1grid, x2grid)\n",
    "\n",
    "# flatten each grid to a vector\n",
    "r1, r2 = xx.flatten(), yy.flatten()\n",
    "r1, r2 = r1.reshape((len(r1), 1)), r2.reshape((len(r2), 1))\n",
    "\n",
    "# horizontal stack vectors to create x1,x2 input for the model\n",
    "grid = np.hstack((r1,r2))\n",
    "\n",
    "# make predictions for the grid\n",
    "yhat = clf_xgb.predict(grid)\n",
    "\n",
    "# reshape the predictions back into a grid\n",
    "zz = yhat.reshape(xx.shape)\n",
    "\n",
    "# plot the grid of x, y and z values as a surface\n",
    "plt.contourf(xx, yy, zz, cmap='Paired')\n",
    "\n",
    "\n",
    "# create scatter plot for samples from each class\n",
    "for class_value in range(2):\n",
    "    # get row indexes for samples with this class\n",
    "    row_ix = np.where(y_train == class_value)\n",
    "    # create scatter of these samples\n",
    "    plt.scatter(x_train[row_ix, 0], x_train[row_ix, 1], cmap='Paired', label=legend_label[class_value])\n",
    "    \n",
    "plt.legend(loc=\"center left\", bbox_to_anchor=(1, 0.5))\n",
    "plt.show()"
   ]
  },
  {
   "cell_type": "markdown",
   "id": "8ad6d902-0d6a-4192-b18d-02bf0ff15324",
   "metadata": {},
   "source": [
    "## decision boundary on test data"
   ]
  },
  {
   "cell_type": "code",
   "execution_count": 28,
   "id": "47756814-3a31-4029-b4f4-7d45d7a50fe4",
   "metadata": {},
   "outputs": [
    {
     "data": {
      "image/png": "[encoded data removed]",
      "text/plain": [
       "<Figure size 432x288 with 1 Axes>"
      ]
     },
     "metadata": {
      "needs_background": "light"
     },
     "output_type": "display_data"
    }
   ],
   "source": [
    "# define bounds of the domain\n",
    "min1, max1 = x_train[:, 0].min()-1, x_train[:, 0].max()+1\n",
    "min2, max2 = x_train[:, 1].min()-1, x_train[:, 1].max()+1\n",
    "\n",
    "# define the x and y scale\n",
    "x1grid = np.arange(min1, max1, 0.1)\n",
    "x2grid = np.arange(min2, max2, 0.1)\n",
    "\n",
    "# create all of the lines and rows of the grid\n",
    "xx, yy = np.meshgrid(x1grid, x2grid)\n",
    "\n",
    "# flatten each grid to a vector\n",
    "r1, r2 = xx.flatten(), yy.flatten()\n",
    "r1, r2 = r1.reshape((len(r1), 1)), r2.reshape((len(r2), 1))\n",
    "\n",
    "# horizontal stack vectors to create x1,x2 input for the model\n",
    "grid = np.hstack((r1,r2))\n",
    "\n",
    "# make predictions for the grid\n",
    "yhat = clf_xgb.predict(grid)\n",
    "\n",
    "# reshape the predictions back into a grid\n",
    "zz = yhat.reshape(xx.shape)\n",
    "\n",
    "# plot the grid of x, y and z values as a surface\n",
    "plt.contourf(xx, yy, zz, cmap='Paired')\n",
    "\n",
    "\n",
    "# create scatter plot for samples from each class\n",
    "for class_value in range(2):\n",
    "    # get row indexes for samples with this class\n",
    "    row_ix = np.where(pred == class_value)\n",
    "    # create scatter of these samples\n",
    "    plt.scatter(x_test[row_ix, 0], x_test[row_ix, 1], cmap='Paired')"
   ]
  },
  {
   "cell_type": "code",
   "execution_count": null,
   "id": "191434e8-ad5b-4da3-a8bc-6d186843b352",
   "metadata": {},
   "outputs": [],
   "source": []
  },
  {
   "cell_type": "code",
   "execution_count": null,
   "id": "ebcfd732-e629-4569-92ea-3e93f920c70f",
   "metadata": {},
   "outputs": [],
   "source": []
  },
  {
   "cell_type": "code",
   "execution_count": null,
   "id": "c2198bc2-b92d-4c91-b2ae-47df91dc3b80",
   "metadata": {},
   "outputs": [],
   "source": []
  },
  {
   "cell_type": "markdown",
   "id": "099d9e6e-66a7-4aa2-b0a2-67abe9cbd2de",
   "metadata": {},
   "source": [
    "## SVM model"
   ]
  },
  {
   "cell_type": "code",
   "execution_count": 29,
   "id": "7ac5606a-87d3-4660-91b7-894e3e13af1e",
   "metadata": {},
   "outputs": [
    {
     "data": {
      "text/plain": [
       "array([[3024,    1],\n",
       "       [  88,   53]])"
      ]
     },
     "execution_count": 29,
     "metadata": {},
     "output_type": "execute_result"
    }
   ],
   "source": [
    "clf_svm = make_pipeline(StandardScaler(), SVC(gamma='auto', probability=True))\n",
    "clf_svm.fit(x_train,y_train)\n",
    "\n",
    "pred_svm=clf_svm.predict(x_test)\n",
    "\n",
    "\n",
    "svm_f1 = f1_score(y_test, pred_svm, average='weighted')\n",
    "svm_acc = accuracy_score(y_test, pred_svm)\n",
    "confusion_matrix(y_test, pred_svm)"
   ]
  },
  {
   "cell_type": "code",
   "execution_count": 30,
   "id": "5f5dacc7-2c1d-4d64-a52a-35bcb799531d",
   "metadata": {},
   "outputs": [
    {
     "data": {
      "text/plain": [
       "(0.965817119247072, 0.9718888186986734, 0.9721569940399666, 0.9718888186986734)"
      ]
     },
     "execution_count": 30,
     "metadata": {},
     "output_type": "execute_result"
    }
   ],
   "source": [
    "svm_f1, svm_acc, precision_score(y_test, pred_svm, average='weighted'), recall_score(y_test, pred_svm, average='weighted')"
   ]
  },
  {
   "cell_type": "code",
   "execution_count": 31,
   "id": "974f5735-736a-44ab-903b-1a7658b8c834",
   "metadata": {},
   "outputs": [
    {
     "data": {
      "text/plain": [
       "0.9144340894437607"
      ]
     },
     "execution_count": 31,
     "metadata": {},
     "output_type": "execute_result"
    }
   ],
   "source": [
    "xg_pred_svm = clf_svm.predict_proba(x_test)[:, 1]\n",
    "roc_auc_score(y_test, xg_pred_svm)"
   ]
  },
  {
   "cell_type": "code",
   "execution_count": 32,
   "id": "ed1d74bf-c1bc-48a5-9eb3-f5190d89c53f",
   "metadata": {},
   "outputs": [
    {
     "data": {
      "image/png": "[encoded data removed]",
      "text/plain": [
       "<Figure size 432x288 with 1 Axes>"
      ]
     },
     "metadata": {
      "needs_background": "light"
     },
     "output_type": "display_data"
    }
   ],
   "source": [
    "# define bounds of the domain\n",
    "min1, max1 = x_train[:, 0].min()-1, x_train[:, 0].max()+1\n",
    "min2, max2 = x_train[:, 1].min()-1, x_train[:, 1].max()+1\n",
    "\n",
    "# define the x and y scale\n",
    "x1grid = np.arange(min1, max1, 0.1)\n",
    "x2grid = np.arange(min2, max2, 0.1)\n",
    "\n",
    "# create all of the lines and rows of the grid\n",
    "xx, yy = np.meshgrid(x1grid, x2grid)\n",
    "\n",
    "# flatten each grid to a vector\n",
    "r1, r2 = xx.flatten(), yy.flatten()\n",
    "r1, r2 = r1.reshape((len(r1), 1)), r2.reshape((len(r2), 1))\n",
    "\n",
    "# horizontal stack vectors to create x1,x2 input for the model\n",
    "grid = np.hstack((r1,r2))\n",
    "\n",
    "# make predictions for the grid\n",
    "yhat = clf_svm.predict(grid)\n",
    "\n",
    "# reshape the predictions back into a grid\n",
    "zz = yhat.reshape(xx.shape)\n",
    "\n",
    "# plot the grid of x, y and z values as a surface\n",
    "plt.contourf(xx, yy, zz, cmap='Paired')\n",
    "\n",
    "\n",
    "# create scatter plot for samples from each class\n",
    "for class_value in range(2):\n",
    "    # get row indexes for samples with this class\n",
    "    row_ix = np.where(y_train == class_value)\n",
    "    # create scatter of these samples\n",
    "    plt.scatter(x_train[row_ix, 0], x_train[row_ix, 1], cmap='Paired',label=legend_label[class_value])\n",
    "    \n",
    "plt.legend(loc=\"center left\", bbox_to_anchor=(1, 0.5))\n",
    "plt.show()"
   ]
  },
  {
   "cell_type": "code",
   "execution_count": 33,
   "id": "72c26431-39c1-4983-88ba-89b353c825ca",
   "metadata": {},
   "outputs": [
    {
     "data": {
      "image/png": "[encoded data removed]",
      "text/plain": [
       "<Figure size 432x288 with 1 Axes>"
      ]
     },
     "metadata": {
      "needs_background": "light"
     },
     "output_type": "display_data"
    }
   ],
   "source": [
    "# define bounds of the domain\n",
    "min1, max1 = x_train[:, 0].min()-1, x_train[:, 0].max()+1\n",
    "min2, max2 = x_train[:, 1].min()-1, x_train[:, 1].max()+1\n",
    "\n",
    "# define the x and y scale\n",
    "x1grid = np.arange(min1, max1, 0.1)\n",
    "x2grid = np.arange(min2, max2, 0.1)\n",
    "\n",
    "# create all of the lines and rows of the grid\n",
    "xx, yy = np.meshgrid(x1grid, x2grid)\n",
    "\n",
    "# flatten each grid to a vector\n",
    "r1, r2 = xx.flatten(), yy.flatten()\n",
    "r1, r2 = r1.reshape((len(r1), 1)), r2.reshape((len(r2), 1))\n",
    "\n",
    "# horizontal stack vectors to create x1,x2 input for the model\n",
    "grid = np.hstack((r1,r2))\n",
    "\n",
    "# make predictions for the grid\n",
    "yhat = clf_svm.predict(grid)\n",
    "\n",
    "# reshape the predictions back into a grid\n",
    "zz = yhat.reshape(xx.shape)\n",
    "\n",
    "# plot the grid of x, y and z values as a surface\n",
    "plt.contourf(xx, yy, zz, cmap='Paired')\n",
    "\n",
    "\n",
    "\n",
    "for class_value in range(2):\n",
    "    # get row indexes for samples with this class\n",
    "    row_ix = np.where(pred_svm == class_value)\n",
    "    # create scatter of these samples\n",
    "    plt.scatter(x_test[row_ix, 0], x_test[row_ix, 1], cmap='Paired')"
   ]
  },
  {
   "cell_type": "code",
   "execution_count": null,
   "id": "51a562fa-8925-4acd-8e5a-6532ca6f70ca",
   "metadata": {},
   "outputs": [],
   "source": []
  },
  {
   "cell_type": "code",
   "execution_count": null,
   "id": "e2ab8146-fc86-4fc7-81c4-ad036fa738f4",
   "metadata": {},
   "outputs": [],
   "source": []
  },
  {
   "cell_type": "code",
   "execution_count": null,
   "id": "60ebfcc9-8683-41d8-9aae-43e2c762573f",
   "metadata": {},
   "outputs": [],
   "source": []
  },
  {
   "cell_type": "markdown",
   "id": "e38751cf-3e79-4a12-9cfe-1742182bfab7",
   "metadata": {},
   "source": [
    "## Multi layer perceptron"
   ]
  },
  {
   "cell_type": "code",
   "execution_count": 34,
   "id": "bcd7210d-b8d7-4592-a20d-26e2ac13f800",
   "metadata": {},
   "outputs": [],
   "source": [
    "from sklearn.neural_network import MLPClassifier"
   ]
  },
  {
   "cell_type": "code",
   "execution_count": 35,
   "id": "a4b9d16b-f483-4e94-910d-7e4b166933f5",
   "metadata": {},
   "outputs": [
    {
     "data": {
      "text/plain": [
       "array([[3006,   19],\n",
       "       [  61,   80]])"
      ]
     },
     "execution_count": 35,
     "metadata": {},
     "output_type": "execute_result"
    }
   ],
   "source": [
    "clf_nn = MLPClassifier(random_state=1, max_iter=300)\n",
    "clf_nn.fit(x_train,y_train)\n",
    "\n",
    "pred_nn=clf_nn.predict(x_test)\n",
    "\n",
    "\n",
    "nn_f1 = f1_score(y_test, pred_nn, average='weighted')\n",
    "nn_acc = accuracy_score(y_test, pred_nn)\n",
    "confusion_matrix(y_test, pred_nn)"
   ]
  },
  {
   "cell_type": "code",
   "execution_count": 36,
   "id": "c37f5699-1cd3-466b-b56d-d45d55959b75",
   "metadata": {},
   "outputs": [
    {
     "data": {
      "text/plain": [
       "(0.9726076347137117,\n",
       " 0.9747315224257739,\n",
       " 0.9724493802665014,\n",
       " 0.9747315224257739)"
      ]
     },
     "execution_count": 36,
     "metadata": {},
     "output_type": "execute_result"
    }
   ],
   "source": [
    "nn_f1, nn_acc, precision_score(y_test, pred_nn, average='weighted'), recall_score(y_test, pred_nn, average='weighted')"
   ]
  },
  {
   "cell_type": "code",
   "execution_count": 37,
   "id": "6b63cb81-d6f9-43fe-b5a5-35208d59e5e2",
   "metadata": {},
   "outputs": [
    {
     "data": {
      "text/plain": [
       "0.9158150167047651"
      ]
     },
     "execution_count": 37,
     "metadata": {},
     "output_type": "execute_result"
    }
   ],
   "source": [
    "pred_nn_prob = clf_nn.predict_proba(x_test)[:, 1]\n",
    "roc_auc_score(y_test, pred_nn_prob)"
   ]
  },
  {
   "cell_type": "code",
   "execution_count": 38,
   "id": "70b6a77c-5eac-4d0c-8d6b-72266620d41f",
   "metadata": {},
   "outputs": [
    {
     "data": {
      "image/png": "[encoded data removed]",
      "text/plain": [
       "<Figure size 432x288 with 1 Axes>"
      ]
     },
     "metadata": {
      "needs_background": "light"
     },
     "output_type": "display_data"
    }
   ],
   "source": [
    "# define bounds of the domain\n",
    "min1, max1 = x_train[:, 0].min()-1, x_train[:, 0].max()+1\n",
    "min2, max2 = x_train[:, 1].min()-1, x_train[:, 1].max()+1\n",
    "\n",
    "# define the x and y scale\n",
    "x1grid = np.arange(min1, max1, 0.1)\n",
    "x2grid = np.arange(min2, max2, 0.1)\n",
    "\n",
    "# create all of the lines and rows of the grid\n",
    "xx, yy = np.meshgrid(x1grid, x2grid)\n",
    "\n",
    "# flatten each grid to a vector\n",
    "r1, r2 = xx.flatten(), yy.flatten()\n",
    "r1, r2 = r1.reshape((len(r1), 1)), r2.reshape((len(r2), 1))\n",
    "\n",
    "# horizontal stack vectors to create x1,x2 input for the model\n",
    "grid = np.hstack((r1,r2))\n",
    "\n",
    "# make predictions for the grid\n",
    "yhat = clf_nn.predict(grid)\n",
    "\n",
    "# reshape the predictions back into a grid\n",
    "zz = yhat.reshape(xx.shape)\n",
    "\n",
    "# plot the grid of x, y and z values as a surface\n",
    "plt.contourf(xx, yy, zz, cmap='Paired')\n",
    "\n",
    "\n",
    "# create scatter plot for samples from each class\n",
    "for class_value in range(2):\n",
    "    # get row indexes for samples with this class\n",
    "    row_ix = np.where(y_train == class_value)\n",
    "    # create scatter of these samples\n",
    "    plt.scatter(x_train[row_ix, 0], x_train[row_ix, 1], cmap='Paired',label=legend_label[class_value])\n",
    "    \n",
    "plt.legend(loc=\"center left\", bbox_to_anchor=(1, 0.5))\n",
    "plt.show()"
   ]
  },
  {
   "cell_type": "code",
   "execution_count": 39,
   "id": "c38c95bd-b6cd-49d0-ac80-fe31389fb7dc",
   "metadata": {},
   "outputs": [
    {
     "data": {
      "image/png": "[encoded data removed]",
      "text/plain": [
       "<Figure size 432x288 with 1 Axes>"
      ]
     },
     "metadata": {
      "needs_background": "light"
     },
     "output_type": "display_data"
    }
   ],
   "source": [
    "# define bounds of the domain\n",
    "min1, max1 = x_train[:, 0].min()-1, x_train[:, 0].max()+1\n",
    "min2, max2 = x_train[:, 1].min()-1, x_train[:, 1].max()+1\n",
    "\n",
    "# define the x and y scale\n",
    "x1grid = np.arange(min1, max1, 0.1)\n",
    "x2grid = np.arange(min2, max2, 0.1)\n",
    "\n",
    "# create all of the lines and rows of the grid\n",
    "xx, yy = np.meshgrid(x1grid, x2grid)\n",
    "\n",
    "# flatten each grid to a vector\n",
    "r1, r2 = xx.flatten(), yy.flatten()\n",
    "r1, r2 = r1.reshape((len(r1), 1)), r2.reshape((len(r2), 1))\n",
    "\n",
    "# horizontal stack vectors to create x1,x2 input for the model\n",
    "grid = np.hstack((r1,r2))\n",
    "\n",
    "# make predictions for the grid\n",
    "yhat = clf_nn.predict(grid)\n",
    "\n",
    "# reshape the predictions back into a grid\n",
    "zz = yhat.reshape(xx.shape)\n",
    "\n",
    "# plot the grid of x, y and z values as a surface\n",
    "plt.contourf(xx, yy, zz, cmap='Paired')\n",
    "\n",
    "\n",
    "# create scatter plot for samples from each class\n",
    "for class_value in range(2):\n",
    "    # get row indexes for samples with this class\n",
    "    row_ix = np.where(pred_nn == class_value)\n",
    "    # create scatter of these samples\n",
    "    plt.scatter(x_test[row_ix, 0], x_test[row_ix, 1], cmap='Paired')"
   ]
  },
  {
   "cell_type": "code",
   "execution_count": null,
   "id": "ff573c25-def0-4986-95f8-f6be4d214d44",
   "metadata": {},
   "outputs": [],
   "source": []
  },
  {
   "cell_type": "markdown",
   "id": "9c4f31a8-072d-47bf-b9c2-44ff940d07d5",
   "metadata": {},
   "source": [
    "## K Nearest Neighbor Model"
   ]
  },
  {
   "cell_type": "code",
   "execution_count": 40,
   "id": "d7296c9d-931c-4707-b02d-9d0d4076144a",
   "metadata": {},
   "outputs": [
    {
     "data": {
      "text/plain": [
       "array([[2987,   38],\n",
       "       [  50,   91]])"
      ]
     },
     "execution_count": 40,
     "metadata": {},
     "output_type": "execute_result"
    }
   ],
   "source": [
    "from sklearn.neighbors import KNeighborsClassifier\n",
    "\n",
    "# instantiate model\n",
    "clf_knn = KNeighborsClassifier(n_neighbors=3)\n",
    "# fit model\n",
    "clf_knn.fit(x_train, y_train)\n",
    "\n",
    "pred_knn=clf_knn.predict(x_test)\n",
    "\n",
    "\n",
    "knn_f1 = f1_score(y_test, pred_knn, average='weighted')\n",
    "knn_acc = accuracy_score(y_test, pred_knn)\n",
    "confusion_matrix(y_test, pred_knn)"
   ]
  },
  {
   "cell_type": "code",
   "execution_count": 41,
   "id": "10268eca-f168-4828-b12a-f2cfb154c49e",
   "metadata": {},
   "outputs": [
    {
     "data": {
      "text/plain": [
       "(0.9716145118166303, 0.9722046746683513, 0.971150562117495, 0.9722046746683513)"
      ]
     },
     "execution_count": 41,
     "metadata": {},
     "output_type": "execute_result"
    }
   ],
   "source": [
    "knn_f1, knn_acc, precision_score(y_test, pred_knn, average='weighted'), recall_score(y_test, pred_knn, average='weighted')"
   ]
  },
  {
   "cell_type": "code",
   "execution_count": 42,
   "id": "6628d021-6a15-4f54-9389-d5a01d89195e",
   "metadata": {},
   "outputs": [
    {
     "data": {
      "text/plain": [
       "0.8695703651603071"
      ]
     },
     "execution_count": 42,
     "metadata": {},
     "output_type": "execute_result"
    }
   ],
   "source": [
    "prob_pred_knn = clf_knn.predict_proba(x_test)[:, 1]\n",
    "roc_auc_score(y_test, prob_pred_knn)"
   ]
  },
  {
   "cell_type": "code",
   "execution_count": 43,
   "id": "8c817384-07cd-4a82-b182-e80388214865",
   "metadata": {},
   "outputs": [
    {
     "data": {
      "image/png": "[encoded data removed]",
      "text/plain": [
       "<Figure size 432x288 with 1 Axes>"
      ]
     },
     "metadata": {
      "needs_background": "light"
     },
     "output_type": "display_data"
    }
   ],
   "source": [
    "# define bounds of the domain\n",
    "min1, max1 = x_train[:, 0].min()-1, x_train[:, 0].max()+1\n",
    "min2, max2 = x_train[:, 1].min()-1, x_train[:, 1].max()+1\n",
    "\n",
    "# define the x and y scale\n",
    "x1grid = np.arange(min1, max1, 0.1)\n",
    "x2grid = np.arange(min2, max2, 0.1)\n",
    "\n",
    "# create all of the lines and rows of the grid\n",
    "xx, yy = np.meshgrid(x1grid, x2grid)\n",
    "\n",
    "# flatten each grid to a vector\n",
    "r1, r2 = xx.flatten(), yy.flatten()\n",
    "r1, r2 = r1.reshape((len(r1), 1)), r2.reshape((len(r2), 1))\n",
    "\n",
    "# horizontal stack vectors to create x1,x2 input for the model\n",
    "grid = np.hstack((r1,r2))\n",
    "\n",
    "# make predictions for the grid\n",
    "yhat = clf_knn.predict(grid)\n",
    "\n",
    "# reshape the predictions back into a grid\n",
    "zz = yhat.reshape(xx.shape)\n",
    "\n",
    "# plot the grid of x, y and z values as a surface\n",
    "plt.contourf(xx, yy, zz, cmap='Paired')\n",
    "\n",
    "\n",
    "# create scatter plot for samples from each class\n",
    "for class_value in range(2):\n",
    "    # get row indexes for samples with this class\n",
    "    row_ix = np.where(y_train == class_value)\n",
    "    # create scatter of these samples\n",
    "    plt.scatter(x_train[row_ix, 0], x_train[row_ix, 1], cmap='Paired',label=legend_label[class_value])\n",
    "    \n",
    "plt.legend(loc=\"center left\", bbox_to_anchor=(1, 0.5))\n",
    "plt.show()"
   ]
  },
  {
   "cell_type": "code",
   "execution_count": 44,
   "id": "e2b6557a-e2b1-4efe-87ff-42fd65240dba",
   "metadata": {},
   "outputs": [
    {
     "data": {
      "image/png": "[encoded data removed]",
      "text/plain": [
       "<Figure size 432x288 with 1 Axes>"
      ]
     },
     "metadata": {
      "needs_background": "light"
     },
     "output_type": "display_data"
    }
   ],
   "source": [
    "# define bounds of the domain\n",
    "min1, max1 = x_train[:, 0].min()-1, x_train[:, 0].max()+1\n",
    "min2, max2 = x_train[:, 1].min()-1, x_train[:, 1].max()+1\n",
    "\n",
    "# define the x and y scale\n",
    "x1grid = np.arange(min1, max1, 0.1)\n",
    "x2grid = np.arange(min2, max2, 0.1)\n",
    "\n",
    "# create all of the lines and rows of the grid\n",
    "xx, yy = np.meshgrid(x1grid, x2grid)\n",
    "\n",
    "# flatten each grid to a vector\n",
    "r1, r2 = xx.flatten(), yy.flatten()\n",
    "r1, r2 = r1.reshape((len(r1), 1)), r2.reshape((len(r2), 1))\n",
    "\n",
    "# horizontal stack vectors to create x1,x2 input for the model\n",
    "grid = np.hstack((r1,r2))\n",
    "\n",
    "# make predictions for the grid\n",
    "yhat = clf_knn.predict(grid)\n",
    "\n",
    "# reshape the predictions back into a grid\n",
    "zz = yhat.reshape(xx.shape)\n",
    "\n",
    "# plot the grid of x, y and z values as a surface\n",
    "plt.contourf(xx, yy, zz, cmap='Paired')\n",
    "\n",
    "\n",
    "# create scatter plot for samples from each class\n",
    "for class_value in range(2):\n",
    "    # get row indexes for samples with this class\n",
    "    row_ix = np.where(pred_knn == class_value)\n",
    "    # create scatter of these samples\n",
    "    plt.scatter(x_test[row_ix, 0], x_test[row_ix, 1], cmap='Paired')"
   ]
  },
  {
   "cell_type": "code",
   "execution_count": null,
   "id": "c9c1e084-5d21-4f1a-948a-776a7a1cd809",
   "metadata": {},
   "outputs": [],
   "source": []
  },
  {
   "cell_type": "code",
   "execution_count": null,
   "id": "cc4fbb9a-fc78-4385-b591-3ab02eed2336",
   "metadata": {},
   "outputs": [],
   "source": []
  },
  {
   "cell_type": "code",
   "execution_count": null,
   "id": "7a389375-eb84-4211-b556-1f64b64547cd",
   "metadata": {},
   "outputs": [],
   "source": []
  },
  {
   "cell_type": "code",
   "execution_count": null,
   "id": "ef9ed87a-ffba-4cb1-9dc0-479e4a01bcca",
   "metadata": {},
   "outputs": [],
   "source": []
  }
 ],
 "metadata": {
  "kernelspec": {
   "display_name": "Python 3 (ipykernel)",
   "language": "python",
   "name": "python3"
  },
  "language_info": {
   "codemirror_mode": {
    "name": "ipython",
    "version": 3
   },
   "file_extension": ".py",
   "mimetype": "text/x-python",
   "name": "python",
   "nbconvert_exporter": "python",
   "pygments_lexer": "ipython3",
   "version": "3.8.12"
  }
 },
 "nbformat": 4,
 "nbformat_minor": 5
}
